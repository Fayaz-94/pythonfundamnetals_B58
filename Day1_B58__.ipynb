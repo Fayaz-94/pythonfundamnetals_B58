{
 "cells": [
  {
   "cell_type": "code",
   "execution_count": 1,
   "id": "5e165bd8",
   "metadata": {},
   "outputs": [
    {
     "name": "stdout",
     "output_type": "stream",
     "text": [
      "Hello all welcome to the python world!\n"
     ]
    }
   ],
   "source": [
    "print(\"Hello all welcome to the python world!\")"
   ]
  },
  {
   "cell_type": "code",
   "execution_count": null,
   "id": "c9229be5",
   "metadata": {},
   "outputs": [],
   "source": [
    "file ---> Rename ===> Day1_B58"
   ]
  },
  {
   "cell_type": "code",
   "execution_count": null,
   "id": "42bbe01d",
   "metadata": {},
   "outputs": [],
   "source": [
    "shift+enter button on the keyboard togther"
   ]
  },
  {
   "cell_type": "code",
   "execution_count": null,
   "id": "9adc5756",
   "metadata": {},
   "outputs": [],
   "source": []
  },
  {
   "cell_type": "code",
   "execution_count": null,
   "id": "109f3769",
   "metadata": {},
   "outputs": [],
   "source": []
  }
 ],
 "metadata": {
  "kernelspec": {
   "display_name": "Python 3",
   "language": "python",
   "name": "python3"
  },
  "language_info": {
   "codemirror_mode": {
    "name": "ipython",
    "version": 3
   },
   "file_extension": ".py",
   "mimetype": "text/x-python",
   "name": "python",
   "nbconvert_exporter": "python",
   "pygments_lexer": "ipython3",
   "version": "3.8.8"
  }
 },
 "nbformat": 4,
 "nbformat_minor": 5
}
